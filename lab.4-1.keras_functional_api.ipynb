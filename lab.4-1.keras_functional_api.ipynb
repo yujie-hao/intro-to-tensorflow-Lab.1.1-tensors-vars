{
 "cells": [
  {
   "cell_type": "markdown",
   "metadata": {},
   "source": [
    "# Introducing the Keras Functional API\n",
    "\n",
    "**Learning Objectives**\n",
    "  1. Understand embeddings and how to create them with the feature column API\n",
    "  1. Understand Deep and Wide models and when to use them\n",
    "  1. Understand the Keras functional API and how to build a deep and wide model with it\n",
    "\n",
    "## Introduction\n",
    "\n",
    "In the last notebook, we learned about the Keras Sequential API. The [Keras Functional API](https://www.tensorflow.org/guide/keras#functional_api) provides an alternate way of building models which is more flexible. With the Functional API, we can build models with more complex topologies, multiple input or output layers, shared layers or non-sequential data flows (e.g. residual layers).\n",
    "\n",
    "In this notebook we'll use what we learned about feature columns to build a Wide & Deep model. Recall, that the idea behind Wide & Deep models is to join the two methods of learning through memorization and generalization by making a wide linear model and a deep learning model to accommodate both. You can have a look at the original research paper here: [Wide & Deep Learning for Recommender Systems](https://arxiv.org/abs/1606.07792).\n",
    "\n",
    "<img src='assets/wide_deep.png' width='80%'>\n",
    "<sup>(image: https://ai.googleblog.com/2016/06/wide-deep-learning-better-together-with.html)</sup>\n",
    "\n",
    "The Wide part of the model is associated with the memory element. In this case, we train a linear model with a wide set of crossed features and learn the correlation of this related data with the assigned label. The Deep part of the model is associated with the generalization element where we use embedding vectors for features. The best embeddings are then learned through the training process. While both of these methods can work well alone, Wide & Deep models excel by combining these techniques together.\n",
    "\n",
    "Each learning objective will correspond to a __#TODO__  in this student lab notebook -- try to complete this notebook first and then review the [solution notebook](https://github.com/GoogleCloudPlatform/training-data-analyst/blob/master/courses/machine_learning/deepdive2/introduction_to_tensorflow/solutions/4_keras_functional_api.ipynb)\n"
   ]
  },
  {
   "cell_type": "code",
   "execution_count": 3,
   "metadata": {},
   "outputs": [],
   "source": [
    "# Use the chown command to change the ownership of the repository.\n",
    "!sudo chown -R jupyter:jupyter /home/jupyter/training-data-analyst"
   ]
  },
  {
   "cell_type": "code",
   "execution_count": 4,
   "metadata": {},
   "outputs": [
    {
     "name": "stdout",
     "output_type": "stream",
     "text": [
      "tensorflow==2.3.0\n"
     ]
    }
   ],
   "source": [
    "# Ensure the right version of Tensorflow is installed.\n",
    "!pip freeze | grep tensorflow==2.3 || pip install tensorflow==2.3"
   ]
  },
  {
   "cell_type": "markdown",
   "metadata": {},
   "source": [
    "Kindly ignore the deprecation warnings and incompatibility errors."
   ]
  },
  {
   "cell_type": "markdown",
   "metadata": {},
   "source": [
    "Start by importing the necessary libraries for this lab."
   ]
  },
  {
   "cell_type": "code",
   "execution_count": 5,
   "metadata": {},
   "outputs": [
    {
     "name": "stdout",
     "output_type": "stream",
     "text": [
      "2.3.0\n"
     ]
    }
   ],
   "source": [
    "import datetime\n",
    "import os\n",
    "import shutil\n",
    "\n",
    "import numpy as np\n",
    "import pandas as pd\n",
    "import tensorflow as tf\n",
    "\n",
    "from matplotlib import pyplot as plt\n",
    "from tensorflow import keras\n",
    "\n",
    "from tensorflow import feature_column as fc\n",
    "\n",
    "from tensorflow.keras import Model\n",
    "from tensorflow.keras.layers import (\n",
    "    Input, Dense, DenseFeatures, concatenate)\n",
    "from tensorflow.keras.callbacks import TensorBoard\n",
    "\n",
    "print(tf.__version__)"
   ]
  },
  {
   "cell_type": "code",
   "execution_count": 6,
   "metadata": {},
   "outputs": [],
   "source": [
    "%matplotlib inline"
   ]
  },
  {
   "cell_type": "markdown",
   "metadata": {},
   "source": [
    "## Load raw data \n",
    "\n",
    "We will use the taxifare dataset, using the CSV files that we created in the first notebook of this sequence. Those files have been saved into `../data`."
   ]
  },
  {
   "cell_type": "code",
   "execution_count": 7,
   "metadata": {},
   "outputs": [
    {
     "name": "stdout",
     "output_type": "stream",
     "text": [
      "-rw-r--r-- 1 jupyter jupyter 123590 Jun 21 14:43 ../data/taxi-test.csv\n",
      "-rw-r--r-- 1 jupyter jupyter 579055 Jun 21 14:43 ../data/taxi-train.csv\n",
      "-rw-r--r-- 1 jupyter jupyter 123114 Jun 21 14:43 ../data/taxi-valid.csv\n"
     ]
    }
   ],
   "source": [
    "!ls -l ../data/*.csv"
   ]
  },
  {
   "cell_type": "markdown",
   "metadata": {},
   "source": [
    "## Use tf.data to read the CSV files\n",
    "\n",
    "We wrote these functions for reading data from the csv files above in the [previous notebook](2_dataset_api.ipynb). For this lab we will also include some additional engineered features in our model. In particular, we will compute the difference in latitude and longitude, as well as the Euclidean distance between the pick-up and drop-off locations. We can accomplish this by adding these new features to the features dictionary with the function `add_engineered_features` below. \n",
    "\n",
    "Note that we include a call to this function when collecting our features dict and labels in the `features_and_labels` function below as well. "
   ]
  },
  {
   "cell_type": "code",
   "execution_count": 8,
   "metadata": {},
   "outputs": [],
   "source": [
    "CSV_COLUMNS = [\n",
    "    'fare_amount',\n",
    "    'pickup_datetime',\n",
    "    'pickup_longitude',\n",
    "    'pickup_latitude',\n",
    "    'dropoff_longitude',\n",
    "    'dropoff_latitude',\n",
    "    'passenger_count',\n",
    "    'key'\n",
    "]\n",
    "LABEL_COLUMN = 'fare_amount'\n",
    "DEFAULTS = [[0.0], ['na'], [0.0], [0.0], [0.0], [0.0], [0.0], ['na']]\n",
    "UNWANTED_COLS = ['pickup_datetime', 'key']\n",
    "\n",
    "\n",
    "def features_and_labels(row_data):\n",
    "    label = row_data.pop(LABEL_COLUMN)\n",
    "    features = row_data\n",
    "        \n",
    "    for unwanted_col in UNWANTED_COLS:\n",
    "        features.pop(unwanted_col)\n",
    "\n",
    "    return features, label\n",
    "\n",
    "\n",
    "def create_dataset(pattern, batch_size=1, mode='eval'):\n",
    "    dataset = tf.data.experimental.make_csv_dataset(\n",
    "        pattern, batch_size, CSV_COLUMNS, DEFAULTS)\n",
    "\n",
    "    dataset = dataset.map(features_and_labels)\n",
    "    \n",
    "    if mode == 'train':\n",
    "        dataset = dataset.shuffle(buffer_size=1000).repeat()\n",
    "\n",
    "    # take advantage of multi-threading; 1=AUTOTUNE\n",
    "    dataset = dataset.prefetch(1)\n",
    "    return dataset"
   ]
  },
  {
   "cell_type": "markdown",
   "metadata": {},
   "source": [
    "**Lab Task #1:** In the cell below, create feature columns for our wide-and-deep model. You'll need to build \n",
    "1. bucketized columns using [tf.feature_column.bucketized_column](https://www.tensorflow.org/api_docs/python/tf/feature_column/bucketized_column) for the pickup and dropoff latitude and longitude,\n",
    "2. crossed columns using [tf.feature_column.crossed_column](https://www.tensorflow.org/api_docs/python/tf/feature_column/crossed_column) for those bucketized columns, and \n",
    "3. embedding columns using [tf.feature_column.embedding_column](https://www.tensorflow.org/api_docs/python/tf/feature_column/embedding_column) for the crossed columns."
   ]
  },
  {
   "cell_type": "code",
   "execution_count": 12,
   "metadata": {},
   "outputs": [],
   "source": [
    "# DONE 1\n",
    "\n",
    "# 1. Bucketize latitudes and longitudes\n",
    "NBUCKETS = 16\n",
    "latbuckets = np.linspace(start=38.0, stop=42.0, num=NBUCKETS).tolist()\n",
    "lonbuckets = np.linspace(start=-76.0, stop=-72.0, num=NBUCKETS).tolist()\n",
    "\n",
    "fc_bucketized_plat = fc.bucketized_column(source_column=fc.numeric_column(\"pickup_longitude\"), boundaries=lonbuckets)\n",
    "fc_bucketized_plon = fc.bucketized_column(source_column=fc.numeric_column(\"pickup_latitude\"), boundaries=latbuckets)\n",
    "fc_bucketized_dlat = fc.bucketized_column(source_column=fc.numeric_column(\"dropoff_longitude\"), boundaries=lonbuckets)\n",
    "fc_bucketized_dlon = fc.bucketized_column(source_column=fc.numeric_column(\"dropoff_latitude\"), boundaries=latbuckets)\n",
    "\n",
    "# 2. Cross features for locations\n",
    "fc_crossed_dloc = fc.crossed_column([fc_bucketized_dlat, fc_bucketized_dlon], hash_bucket_size=NBUCKETS * NBUCKETS)\n",
    "fc_crossed_ploc = fc.crossed_column([fc_bucketized_plat, fc_bucketized_plon], hash_bucket_size=NBUCKETS * NBUCKETS)\n",
    "fc_crossed_pd_pair = fc.crossed_column([fc_crossed_dloc, fc_crossed_ploc], hash_bucket_size=NBUCKETS**4)\n",
    "\n",
    "# 3. Create embedding columns for the crossed columns\n",
    "fc_pd_pair = fc.embedding_column(categorical_column=fc_crossed_pd_pair, dimension=3)\n",
    "fc_dloc = fc.embedding_column(categorical_column=fc_crossed_dloc, dimension=3)\n",
    "fc_ploc = fc.embedding_column(categorical_column=fc_crossed_ploc, dimension=3)"
   ]
  },
  {
   "cell_type": "markdown",
   "metadata": {},
   "source": [
    "### Gather list of feature columns\n",
    "\n",
    "Next we gather the list of wide and deep feature columns we'll pass to our Wide & Deep model in Tensorflow. Recall, wide columns are sparse, have linear relationship with the output while continuous columns are deep, have a complex relationship with the output. We will use our previously bucketized columns to collect crossed feature columns and sparse feature columns for our wide columns, and embedding feature columns and numeric features columns for the deep columns."
   ]
  },
  {
   "cell_type": "markdown",
   "metadata": {},
   "source": [
    "**Lab Task #2:** Collect the wide and deep columns into two separate lists. You'll have two lists: One called `wide_columns` containing the one-hot encoded features from the crossed features and one called `deep_columns` which contains numeric and embedding feature columns."
   ]
  },
  {
   "cell_type": "code",
   "execution_count": 13,
   "metadata": {},
   "outputs": [],
   "source": [
    "# DONE 2\n",
    "wide_columns = [\n",
    "    # One-hot encoded feature crosses\n",
    "    fc.indicator_column(fc_crossed_dloc),\n",
    "    fc.indicator_column(fc_crossed_ploc),\n",
    "    fc.indicator_column(fc_crossed_pd_pair)\n",
    "]\n",
    "\n",
    "deep_columns = [\n",
    "    # Embedding_column to \"group\" together ...\n",
    "    fc.embedding_column(fc_crossed_pd_pair, dimension=10),\n",
    "\n",
    "    # Numeric columns\n",
    "    fc.numeric_column(\"pickup_latitude\"),\n",
    "    fc.numeric_column(\"pickup_longitude\"),\n",
    "    fc.numeric_column(\"dropoff_longitude\"),\n",
    "    fc.numeric_column(\"dropoff_latitude\")\n",
    "]"
   ]
  },
  {
   "cell_type": "markdown",
   "metadata": {},
   "source": [
    "## Build a Wide and Deep model in Keras\n",
    "\n",
    "To build a wide-and-deep network, we connect the sparse (i.e. wide) features directly to the output node, but pass the dense (i.e. deep) features through a set of fully connected layers. Here’s that model architecture looks using the Functional API.\n",
    "\n",
    "First, we'll create our input columns using [tf.keras.layers.Input](https://www.tensorflow.org/versions/r2.0/api_docs/python/tf/keras/Input)."
   ]
  },
  {
   "cell_type": "code",
   "execution_count": 14,
   "metadata": {},
   "outputs": [],
   "source": [
    "INPUT_COLS = [\n",
    "    'pickup_longitude',\n",
    "    'pickup_latitude',\n",
    "    'dropoff_longitude',\n",
    "    'dropoff_latitude',\n",
    "    'passenger_count'\n",
    "]\n",
    "\n",
    "inputs = {colname : Input(name=colname, shape=(), dtype='float32')\n",
    "          for colname in INPUT_COLS\n",
    "}"
   ]
  },
  {
   "cell_type": "markdown",
   "metadata": {},
   "source": [
    "Then, we'll define our custom RMSE evaluation metric and build our wide and deep model."
   ]
  },
  {
   "cell_type": "markdown",
   "metadata": {},
   "source": [
    "**Lab Task #3:** Complete the code in the function `build_model` below so that it returns a compiled Keras model. The argument `dnn_hidden_units` should represent the number of units in each layer of your network. Use the Functional API to build a wide-and-deep model. Use the `deep_columns` you created above to build the deep layers and the `wide_columns` to create the wide layers. Once you have the wide and deep components, you will combine them to feed to a final fully connected layer. "
   ]
  },
  {
   "cell_type": "code",
   "execution_count": 15,
   "metadata": {},
   "outputs": [],
   "source": [
    "def rmse(y_true, y_pred):\n",
    "    return tf.sqrt(tf.reduce_mean(tf.square(y_pred - y_true)))\n",
    "\n",
    "# DONE 3\n",
    "def build_model(dnn_hidden_units):\n",
    "    # Create the deep part of model\n",
    "    deep = DenseFeatures(deep_columns, name='deep_inputs')(inputs)\n",
    "    for num_nodes in dnn_hidden_units:\n",
    "        deep = Dense(num_nodes, activation='relu')(deep)\n",
    "    \n",
    "    # Create the wide part of model\n",
    "    wide = DenseFeatures(wide_columns, name='wide_inputs')(inputs)\n",
    "\n",
    "    # Combine deep and wide parts of the model\n",
    "    combined = concatenate(inputs=[deep, wide], name='combined')\n",
    "\n",
    "    # Map the combined outputs into a single prediction value\n",
    "    output = Dense(units=1, activation=None, name='prediction')(combined)\n",
    "    \n",
    "    # Finalize the model\n",
    "    model = Model(inputs=list(inputs.values()), outputs=output)\n",
    "\n",
    "    # Compile the keras model\n",
    "    model.compile(optimizer=\"adam\", loss=\"mse\", metrics=[rmse, \"mse\"])\n",
    "    \n",
    "    return model"
   ]
  },
  {
   "cell_type": "markdown",
   "metadata": {},
   "source": [
    "Next, we can call the `build_model` to create the model. Here we'll have two hidden layers, each with 10 neurons, for the deep part of our model. We can also use `plot_model` to see a diagram of the model we've created."
   ]
  },
  {
   "cell_type": "code",
   "execution_count": 16,
   "metadata": {},
   "outputs": [
    {
     "data": {
      "image/png": "[encoded data removed]",
      "text/plain": [
       "<IPython.core.display.Image object>"
      ]
     },
     "execution_count": 16,
     "metadata": {},
     "output_type": "execute_result"
    }
   ],
   "source": [
    "HIDDEN_UNITS = [10,10]\n",
    "\n",
    "model = build_model(dnn_hidden_units=HIDDEN_UNITS)\n",
    "\n",
    "tf.keras.utils.plot_model(model, show_shapes=False, rankdir='LR')"
   ]
  },
  {
   "cell_type": "markdown",
   "metadata": {},
   "source": [
    "Next, we'll set up our training variables, create our datasets for training and validation, and train our model.\n",
    "\n",
    "(We refer you the the blog post [ML Design Pattern #3: Virtual Epochs](https://medium.com/google-cloud/ml-design-pattern-3-virtual-epochs-f842296de730) for further details on why express the training in terms of `NUM_TRAIN_EXAMPLES` and `NUM_EVALS` and why, in this training code, the number of epochs is really equal to the number of evaluations we perform.)"
   ]
  },
  {
   "cell_type": "code",
   "execution_count": 17,
   "metadata": {},
   "outputs": [],
   "source": [
    "BATCH_SIZE = 1000\n",
    "NUM_TRAIN_EXAMPLES = 10000 * 5  # training dataset will repeat, wrap around\n",
    "NUM_EVALS = 50  # how many times to evaluate\n",
    "NUM_EVAL_EXAMPLES = 10000  # enough to get a reasonable sample\n",
    "\n",
    "trainds = create_dataset(\n",
    "    pattern='../data/taxi-train*',\n",
    "    batch_size=BATCH_SIZE,\n",
    "    mode='train')\n",
    "\n",
    "evalds = create_dataset(\n",
    "    pattern='../data/taxi-valid*',\n",
    "    batch_size=BATCH_SIZE,\n",
    "    mode='eval').take(NUM_EVAL_EXAMPLES//1000)"
   ]
  },
  {
   "cell_type": "code",
   "execution_count": 18,
   "metadata": {},
   "outputs": [
    {
     "name": "stdout",
     "output_type": "stream",
     "text": [
      "Epoch 1/50\n",
      "1/1 [==============================] - 2s 2s/step - loss: 212.6531 - rmse: 14.5826 - mse: 212.6531 - val_loss: 245.3062 - val_rmse: 15.6571 - val_mse: 245.3062\n",
      "Epoch 2/50\n",
      "WARNING:tensorflow:From /opt/conda/lib/python3.7/site-packages/tensorflow/python/ops/summary_ops_v2.py:1277: stop (from tensorflow.python.eager.profiler) is deprecated and will be removed after 2020-07-01.\n",
      "Instructions for updating:\n",
      "use `tf.profiler.experimental.stop` instead.\n",
      "1/1 [==============================] - 1s 1s/step - loss: 243.7105 - rmse: 15.6112 - mse: 243.7105 - val_loss: 237.9823 - val_rmse: 15.4209 - val_mse: 237.9823\n",
      "Epoch 3/50\n",
      "1/1 [==============================] - 1s 1s/step - loss: 199.0170 - rmse: 14.1073 - mse: 199.0170 - val_loss: 232.3219 - val_rmse: 15.2318 - val_mse: 232.3219\n",
      "Epoch 4/50\n",
      "1/1 [==============================] - 2s 2s/step - loss: 254.0222 - rmse: 15.9381 - mse: 254.0222 - val_loss: 226.7509 - val_rmse: 15.0505 - val_mse: 226.7509\n",
      "Epoch 5/50\n",
      "1/1 [==============================] - 2s 2s/step - loss: 184.9952 - rmse: 13.6013 - mse: 184.9952 - val_loss: 226.6407 - val_rmse: 15.0419 - val_mse: 226.6407\n",
      "Epoch 6/50\n",
      "1/1 [==============================] - 1s 1s/step - loss: 190.2585 - rmse: 13.7934 - mse: 190.2585 - val_loss: 218.0897 - val_rmse: 14.7444 - val_mse: 218.0897\n",
      "Epoch 7/50\n",
      "1/1 [==============================] - 1s 1s/step - loss: 191.8052 - rmse: 13.8494 - mse: 191.8052 - val_loss: 216.3143 - val_rmse: 14.7006 - val_mse: 216.3143\n",
      "Epoch 8/50\n",
      "1/1 [==============================] - 2s 2s/step - loss: 187.1416 - rmse: 13.6800 - mse: 187.1416 - val_loss: 209.0205 - val_rmse: 14.4524 - val_mse: 209.0205\n",
      "Epoch 9/50\n",
      "1/1 [==============================] - 1s 1s/step - loss: 167.7892 - rmse: 12.9533 - mse: 167.7892 - val_loss: 205.3451 - val_rmse: 14.3211 - val_mse: 205.3451\n",
      "Epoch 10/50\n",
      "1/1 [==============================] - 1s 1s/step - loss: 181.4468 - rmse: 13.4702 - mse: 181.4468 - val_loss: 200.7371 - val_rmse: 14.1518 - val_mse: 200.7371\n",
      "Epoch 11/50\n",
      "1/1 [==============================] - 2s 2s/step - loss: 196.0621 - rmse: 14.0022 - mse: 196.0621 - val_loss: 193.3728 - val_rmse: 13.8975 - val_mse: 193.3728\n",
      "Epoch 12/50\n",
      "1/1 [==============================] - 1s 1s/step - loss: 179.5074 - rmse: 13.3980 - mse: 179.5074 - val_loss: 189.0154 - val_rmse: 13.7398 - val_mse: 189.0154\n",
      "Epoch 13/50\n",
      "1/1 [==============================] - 1s 1s/step - loss: 176.7411 - rmse: 13.2944 - mse: 176.7411 - val_loss: 189.2458 - val_rmse: 13.7486 - val_mse: 189.2458\n",
      "Epoch 14/50\n",
      "1/1 [==============================] - 2s 2s/step - loss: 132.2349 - rmse: 11.4993 - mse: 132.2349 - val_loss: 180.9514 - val_rmse: 13.4433 - val_mse: 180.9514\n",
      "Epoch 15/50\n",
      "1/1 [==============================] - 2s 2s/step - loss: 160.0005 - rmse: 12.6491 - mse: 160.0005 - val_loss: 177.1176 - val_rmse: 13.2812 - val_mse: 177.1176\n",
      "Epoch 16/50\n",
      "1/1 [==============================] - 1s 1s/step - loss: 136.1403 - rmse: 11.6679 - mse: 136.1403 - val_loss: 173.9684 - val_rmse: 13.1742 - val_mse: 173.9684\n",
      "Epoch 17/50\n",
      "1/1 [==============================] - 1s 1s/step - loss: 154.1550 - rmse: 12.4159 - mse: 154.1550 - val_loss: 169.7342 - val_rmse: 13.0016 - val_mse: 169.7342\n",
      "Epoch 18/50\n",
      "1/1 [==============================] - 2s 2s/step - loss: 169.5045 - rmse: 13.0194 - mse: 169.5045 - val_loss: 167.3451 - val_rmse: 12.9131 - val_mse: 167.3451\n",
      "Epoch 19/50\n",
      "1/1 [==============================] - 2s 2s/step - loss: 130.4420 - rmse: 11.4211 - mse: 130.4420 - val_loss: 164.7917 - val_rmse: 12.8101 - val_mse: 164.7917\n",
      "Epoch 20/50\n",
      "1/1 [==============================] - 1s 1s/step - loss: 170.6409 - rmse: 13.0630 - mse: 170.6409 - val_loss: 160.4396 - val_rmse: 12.6507 - val_mse: 160.4396\n",
      "Epoch 21/50\n",
      "1/1 [==============================] - 1s 1s/step - loss: 143.3957 - rmse: 11.9748 - mse: 143.3957 - val_loss: 155.5495 - val_rmse: 12.4611 - val_mse: 155.5495\n",
      "Epoch 22/50\n",
      "1/1 [==============================] - 2s 2s/step - loss: 133.2254 - rmse: 11.5423 - mse: 133.2254 - val_loss: 149.2181 - val_rmse: 12.2002 - val_mse: 149.2181\n",
      "Epoch 23/50\n",
      "1/1 [==============================] - 1s 1s/step - loss: 90.2921 - rmse: 9.5022 - mse: 90.2921 - val_loss: 149.4429 - val_rmse: 12.2209 - val_mse: 149.4429\n",
      "Epoch 24/50\n",
      "1/1 [==============================] - 1s 1s/step - loss: 128.4751 - rmse: 11.3347 - mse: 128.4751 - val_loss: 143.9097 - val_rmse: 11.9929 - val_mse: 143.9097\n",
      "Epoch 25/50\n",
      "1/1 [==============================] - 2s 2s/step - loss: 134.0562 - rmse: 11.5783 - mse: 134.0562 - val_loss: 142.2533 - val_rmse: 11.9090 - val_mse: 142.2533\n",
      "Epoch 26/50\n",
      "1/1 [==============================] - 2s 2s/step - loss: 105.7838 - rmse: 10.2851 - mse: 105.7838 - val_loss: 136.4582 - val_rmse: 11.6705 - val_mse: 136.4582\n",
      "Epoch 27/50\n",
      "1/1 [==============================] - 1s 1s/step - loss: 124.7966 - rmse: 11.1712 - mse: 124.7966 - val_loss: 132.4397 - val_rmse: 11.4974 - val_mse: 132.4397\n",
      "Epoch 28/50\n",
      "1/1 [==============================] - 1s 1s/step - loss: 132.4996 - rmse: 11.5108 - mse: 132.4996 - val_loss: 130.7926 - val_rmse: 11.4158 - val_mse: 130.7926\n",
      "Epoch 29/50\n",
      "1/1 [==============================] - 2s 2s/step - loss: 100.9719 - rmse: 10.0485 - mse: 100.9719 - val_loss: 128.9180 - val_rmse: 11.3373 - val_mse: 128.9180\n",
      "Epoch 30/50\n",
      "1/1 [==============================] - 1s 1s/step - loss: 126.7989 - rmse: 11.2605 - mse: 126.7989 - val_loss: 128.3845 - val_rmse: 11.3202 - val_mse: 128.3845\n",
      "Epoch 31/50\n",
      "1/1 [==============================] - 1s 1s/step - loss: 101.8224 - rmse: 10.0907 - mse: 101.8224 - val_loss: 125.5685 - val_rmse: 11.1928 - val_mse: 125.5685\n",
      "Epoch 32/50\n",
      "1/1 [==============================] - 2s 2s/step - loss: 97.9962 - rmse: 9.8993 - mse: 97.9962 - val_loss: 121.8226 - val_rmse: 11.0171 - val_mse: 121.8226\n",
      "Epoch 33/50\n",
      "1/1 [==============================] - 2s 2s/step - loss: 136.4395 - rmse: 11.6807 - mse: 136.4395 - val_loss: 120.3249 - val_rmse: 10.9495 - val_mse: 120.3249\n",
      "Epoch 34/50\n",
      "1/1 [==============================] - 1s 1s/step - loss: 100.8522 - rmse: 10.0425 - mse: 100.8522 - val_loss: 119.5905 - val_rmse: 10.9184 - val_mse: 119.5905\n",
      "Epoch 35/50\n",
      "1/1 [==============================] - 1s 1s/step - loss: 128.3499 - rmse: 11.3292 - mse: 128.3499 - val_loss: 117.4070 - val_rmse: 10.8251 - val_mse: 117.4070\n",
      "Epoch 36/50\n",
      "1/1 [==============================] - 1s 1s/step - loss: 96.1471 - rmse: 9.8055 - mse: 96.1471 - val_loss: 115.7805 - val_rmse: 10.7422 - val_mse: 115.7805\n",
      "Epoch 37/50\n",
      "1/1 [==============================] - 1s 1s/step - loss: 71.6577 - rmse: 8.4651 - mse: 71.6577 - val_loss: 116.5943 - val_rmse: 10.7887 - val_mse: 116.5943\n",
      "Epoch 38/50\n",
      "1/1 [==============================] - 2s 2s/step - loss: 77.9376 - rmse: 8.8282 - mse: 77.9376 - val_loss: 114.4766 - val_rmse: 10.6807 - val_mse: 114.4766\n",
      "Epoch 39/50\n",
      "1/1 [==============================] - 1s 1s/step - loss: 104.0645 - rmse: 10.2012 - mse: 104.0645 - val_loss: 113.0120 - val_rmse: 10.6213 - val_mse: 113.0120\n",
      "Epoch 40/50\n",
      "1/1 [==============================] - 1s 1s/step - loss: 110.3068 - rmse: 10.5027 - mse: 110.3068 - val_loss: 111.6787 - val_rmse: 10.5521 - val_mse: 111.6787\n",
      "Epoch 41/50\n",
      "1/1 [==============================] - 2s 2s/step - loss: 80.1030 - rmse: 8.9500 - mse: 80.1030 - val_loss: 110.2130 - val_rmse: 10.4936 - val_mse: 110.2130\n",
      "Epoch 42/50\n",
      "1/1 [==============================] - 2s 2s/step - loss: 132.5748 - rmse: 11.5141 - mse: 132.5748 - val_loss: 113.3745 - val_rmse: 10.6274 - val_mse: 113.3745\n",
      "Epoch 43/50\n",
      "1/1 [==============================] - 1s 1s/step - loss: 84.9098 - rmse: 9.2146 - mse: 84.9098 - val_loss: 111.9017 - val_rmse: 10.5666 - val_mse: 111.9017\n",
      "Epoch 44/50\n",
      "1/1 [==============================] - 1s 1s/step - loss: 115.4060 - rmse: 10.7427 - mse: 115.4060 - val_loss: 110.4310 - val_rmse: 10.4716 - val_mse: 110.4310\n",
      "Epoch 45/50\n",
      "1/1 [==============================] - 2s 2s/step - loss: 97.2902 - rmse: 9.8636 - mse: 97.2902 - val_loss: 108.8344 - val_rmse: 10.4031 - val_mse: 108.8344\n",
      "Epoch 46/50\n",
      "1/1 [==============================] - 2s 2s/step - loss: 94.5818 - rmse: 9.7253 - mse: 94.5818 - val_loss: 109.1369 - val_rmse: 10.4390 - val_mse: 109.1369\n",
      "Epoch 47/50\n",
      "1/1 [==============================] - 1s 1s/step - loss: 83.5060 - rmse: 9.1382 - mse: 83.5060 - val_loss: 110.4494 - val_rmse: 10.4937 - val_mse: 110.4494\n",
      "Epoch 48/50\n",
      "1/1 [==============================] - 2s 2s/step - loss: 119.4031 - rmse: 10.9272 - mse: 119.4031 - val_loss: 109.5009 - val_rmse: 10.4354 - val_mse: 109.5009\n",
      "Epoch 49/50\n",
      "1/1 [==============================] - 2s 2s/step - loss: 97.3975 - rmse: 9.8690 - mse: 97.3975 - val_loss: 108.9991 - val_rmse: 10.4195 - val_mse: 108.9991\n",
      "Epoch 50/50\n",
      "1/1 [==============================] - 1s 1s/step - loss: 104.8270 - rmse: 10.2385 - mse: 104.8270 - val_loss: 108.7656 - val_rmse: 10.4155 - val_mse: 108.7656\n",
      "CPU times: user 2min 47s, sys: 2min 4s, total: 4min 51s\n",
      "Wall time: 1min 39s\n"
     ]
    }
   ],
   "source": [
    "%%time\n",
    "steps_per_epoch = NUM_TRAIN_EXAMPLES // (BATCH_SIZE * NUM_EVALS)\n",
    "\n",
    "OUTDIR = \"./taxi_trained\"\n",
    "shutil.rmtree(path=OUTDIR, ignore_errors=True) # start fresh each time\n",
    "\n",
    "history = model.fit(x=trainds,\n",
    "                    steps_per_epoch=steps_per_epoch,\n",
    "                    epochs=NUM_EVALS,\n",
    "                    validation_data=evalds,\n",
    "                    callbacks=[TensorBoard(OUTDIR)])"
   ]
  },
  {
   "cell_type": "markdown",
   "metadata": {},
   "source": [
    "Just as before, we can examine the history to see how the RMSE changes through training on the train set and validation set. "
   ]
  },
  {
   "cell_type": "code",
   "execution_count": 19,
   "metadata": {},
   "outputs": [
    {
     "data": {
      "text/plain": [
       "<AxesSubplot:>"
      ]
     },
     "execution_count": 19,
     "metadata": {},
     "output_type": "execute_result"
    },
    {
     "data": {
      "image/png": "[encoded data removed]",
      "text/plain": [
       "<Figure size 432x288 with 1 Axes>"
      ]
     },
     "metadata": {
      "needs_background": "light"
     },
     "output_type": "display_data"
    }
   ],
   "source": [
    "RMSE_COLS = ['rmse', 'val_rmse']\n",
    "\n",
    "pd.DataFrame(history.history)[RMSE_COLS].plot()"
   ]
  },
  {
   "cell_type": "markdown",
   "metadata": {},
   "source": [
    "Copyright 2019 Google Inc. Licensed under the Apache License, Version 2.0 (the \"License\"); you may not use this file except in compliance with the License. You may obtain a copy of the License at http://www.apache.org/licenses/LICENSE-2.0 Unless required by applicable law or agreed to in writing, software distributed under the License is distributed on an \"AS IS\" BASIS, WITHOUT WARRANTIES OR CONDITIONS OF ANY KIND, either express or implied. See the License for the specific language governing permissions and limitations under the License"
   ]
  }
 ],
 "metadata": {
  "environment": {
   "name": "tf-gpu.1-15.m71",
   "type": "gcloud",
   "uri": "gcr.io/deeplearning-platform-release/tf-gpu.1-15:m71"
  },
  "kernelspec": {
   "display_name": "Python 3",
   "language": "python",
   "name": "python3"
  },
  "language_info": {
   "codemirror_mode": {
    "name": "ipython",
    "version": 3
   },
   "file_extension": ".py",
   "mimetype": "text/x-python",
   "name": "python",
   "nbconvert_exporter": "python",
   "pygments_lexer": "ipython3",
   "version": "3.7.10"
  }
 },
 "nbformat": 4,
 "nbformat_minor": 4
}
