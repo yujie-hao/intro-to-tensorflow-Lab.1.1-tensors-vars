{
 "cells": [
  {
   "cell_type": "markdown",
   "metadata": {},
   "source": [
    "# Introducing the Keras Sequential API\n",
    "\n",
    "**Learning Objectives**\n",
    "  1. Learn how to use feature columns in a Keras model\n",
    "  1. Build a DNN model using the Keras Sequential API\n",
    "  1. Learn how to train a model with Keras\n",
    "  1. Learn how to save/load, and deploy a Keras model on GCP\n",
    "  1. Learn how to deploy and make predictions with at Keras model\n",
    "\n",
    "## Introduction\n",
    "\n",
    "The [Keras sequential API](https://keras.io/models/sequential/) allows you to create Tensorflow models layer-by-layer. This is useful for building most kinds of machine learning models but it does not allow you to create models that share layers, re-use layers or have multiple inputs or outputs. \n",
    "\n",
    "In this lab, we'll see how to build a simple deep neural network model using the keras sequential api and feature columns. Once we have trained our model, we will deploy it using AI Platform and see how to call our model for online prediciton.\n",
    "\n",
    "Each learning objective will correspond to a __#TODO__  in this student lab notebook -- try to complete this notebook first and then review the [solution notebook](https://github.com/GoogleCloudPlatform/training-data-analyst/blob/master/courses/machine_learning/deepdive2/introduction_to_tensorflow/solutions/3_keras_sequential_api.ipynb)\n"
   ]
  },
  {
   "cell_type": "code",
   "execution_count": 1,
   "metadata": {},
   "outputs": [],
   "source": [
    "!sudo chown -R jupyter:jupyter /home/jupyter/training-data-analyst"
   ]
  },
  {
   "cell_type": "markdown",
   "metadata": {},
   "source": [
    "Please ignore any incompatibility warnings and errors and re-run the cell to view the installed tensorflow version.\n"
   ]
  },
  {
   "cell_type": "markdown",
   "metadata": {},
   "source": [
    "Start by importing the necessary libraries for this lab."
   ]
  },
  {
   "cell_type": "code",
   "execution_count": 2,
   "metadata": {},
   "outputs": [
    {
     "name": "stdout",
     "output_type": "stream",
     "text": [
      "1.15.5\n"
     ]
    }
   ],
   "source": [
    "import datetime\n",
    "import os\n",
    "import shutil\n",
    "\n",
    "import numpy as np\n",
    "import pandas as pd\n",
    "import tensorflow as tf\n",
    "\n",
    "from matplotlib import pyplot as plt\n",
    "from tensorflow import keras\n",
    "\n",
    "from tensorflow.keras.models import Sequential\n",
    "from tensorflow.keras.layers import Dense, DenseFeatures\n",
    "from tensorflow.keras.callbacks import TensorBoard\n",
    "\n",
    "print(tf.__version__)\n",
    "%matplotlib inline"
   ]
  },
  {
   "cell_type": "markdown",
   "metadata": {},
   "source": [
    "## Load raw data \n",
    "\n",
    "We will use the taxifare dataset, using the CSV files that we created in the first notebook of this sequence. Those files have been saved into `../data`."
   ]
  },
  {
   "cell_type": "code",
   "execution_count": 3,
   "metadata": {},
   "outputs": [
    {
     "name": "stdout",
     "output_type": "stream",
     "text": [
      "-rw-r--r-- 1 jupyter jupyter 123590 Jun 13 08:53 ../data/taxi-test.csv\n",
      "-rw-r--r-- 1 jupyter jupyter 579055 Jun 13 08:53 ../data/taxi-train.csv\n",
      "-rw-r--r-- 1 jupyter jupyter 123114 Jun 13 08:53 ../data/taxi-valid.csv\n"
     ]
    }
   ],
   "source": [
    "!ls -l ../data/*.csv"
   ]
  },
  {
   "cell_type": "code",
   "execution_count": 4,
   "metadata": {},
   "outputs": [
    {
     "name": "stdout",
     "output_type": "stream",
     "text": [
      "==> ../data/taxi-test.csv <==\n",
      "6.0,2013-03-27 03:35:00 UTC,-73.977672,40.784052,-73.965332,40.801025,2,0\n",
      "19.3,2012-05-10 18:43:16 UTC,-73.954366,40.778924,-74.004094,40.723104,1,1\n",
      "7.5,2014-05-20 23:09:00 UTC,-73.999165,40.738377,-74.003473,40.723862,2,2\n",
      "12.5,2015-02-23 19:51:31 UTC,-73.9652099609375,40.76948165893555,-73.98949432373047,40.739742279052734,1,3\n",
      "10.9,2011-03-19 03:32:00 UTC,-73.99259,40.742957,-73.989908,40.711053,1,4\n",
      "7.0,2012-09-18 12:51:11 UTC,-73.971195,40.751566,-73.975922,40.756361,1,5\n",
      "19.0,2014-05-20 23:09:00 UTC,-73.998392,40.74517,-73.939845,40.74908,1,6\n",
      "8.9,2012-07-18 08:46:08 UTC,-73.997638,40.756541,-73.973303,40.762019,1,7\n",
      "4.5,2010-07-11 20:39:08 UTC,-73.976738,40.751321,-73.986671,40.74883,1,8\n",
      "7.0,2013-12-12 02:16:40 UTC,-73.985024,40.767537,-73.981273,40.779302,1,9\n",
      "\n",
      "==> ../data/taxi-train.csv <==\n",
      "11.3,2011-01-28 20:42:59 UTC,-73.999022,40.739146,-73.990369,40.717866,1,0\n",
      "7.7,2011-06-27 04:28:06 UTC,-73.987443,40.729221,-73.979013,40.758641,1,1\n",
      "10.5,2011-04-03 00:54:53 UTC,-73.982539,40.735725,-73.954797,40.778388,1,2\n",
      "16.2,2009-04-10 04:11:56 UTC,-74.001945,40.740505,-73.91385,40.758559,1,3\n",
      "33.5,2014-02-24 18:22:00 UTC,-73.993372,40.753382,-73.8609,40.732897,2,4\n",
      "6.9,2011-12-10 00:25:23 UTC,-73.996237,40.721848,-73.989416,40.718052,1,5\n",
      "6.1,2012-09-01 14:30:19 UTC,-73.977048,40.758461,-73.984899,40.744693,2,6\n",
      "9.5,2012-11-08 13:28:07 UTC,-73.969402,40.757545,-73.950049,40.776079,1,7\n",
      "9.0,2014-07-15 11:37:25 UTC,-73.979318,40.760949,-73.95767,40.773724,1,8\n",
      "3.3,2009-11-09 18:06:58 UTC,-73.955675,40.779154,-73.961172,40.772368,1,9\n",
      "\n",
      "==> ../data/taxi-valid.csv <==\n",
      "5.3,2012-01-03 19:21:35 UTC,-73.962627,40.763214,-73.973485,40.753353,1,0\n",
      "25.3,2010-09-27 07:30:15 UTC,-73.965799,40.794243,-73.927134,40.852261,3,1\n",
      "27.5,2015-05-19 00:40:02 UTC,-73.86344146728516,40.76899719238281,-73.96058654785156,40.76129913330078,1,2\n",
      "5.7,2010-04-29 12:28:00 UTC,-73.989255,40.738912,-73.97558,40.749172,1,3\n",
      "11.5,2013-06-23 06:08:09 UTC,-73.99731,40.763735,-73.955657,40.768141,1,4\n",
      "18.0,2014-10-14 18:52:03 UTC,-73.997995,40.761638,-74.008985,40.712442,1,5\n",
      "4.9,2010-04-29 12:28:00 UTC,-73.977315,40.766182,-73.970845,40.761462,5,6\n",
      "32.33,2014-02-24 18:22:00 UTC,-73.985358,40.761352,-73.92427,40.699145,1,7\n",
      "17.0,2015-03-26 02:48:58 UTC,-73.93981170654297,40.846473693847656,-73.97361755371094,40.786983489990234,1,8\n",
      "12.5,2013-04-09 09:39:13 UTC,-73.977323,40.753934,-74.00719,40.741472,1,9\n"
     ]
    }
   ],
   "source": [
    "!head ../data/taxi*.csv"
   ]
  },
  {
   "cell_type": "markdown",
   "metadata": {},
   "source": [
    "## Use tf.data to read the CSV files\n",
    "\n",
    "We wrote these functions for reading data from the csv files above in the [previous notebook](https://github.com/GoogleCloudPlatform/training-data-analyst/blob/master/courses/machine_learning/deepdive2/introduction_to_tensorflow/labs/2_dataset_api.ipynb)."
   ]
  },
  {
   "cell_type": "code",
   "execution_count": 5,
   "metadata": {},
   "outputs": [],
   "source": [
    "CSV_COLUMNS = [\n",
    "    'fare_amount',\n",
    "    'pickup_datetime',\n",
    "    'pickup_longitude',\n",
    "    'pickup_latitude',\n",
    "    'dropoff_longitude',\n",
    "    'dropoff_latitude',\n",
    "    'passenger_count',\n",
    "    'key'\n",
    "]\n",
    "LABEL_COLUMN = 'fare_amount'\n",
    "DEFAULTS = [[0.0], ['na'], [0.0], [0.0], [0.0], [0.0], [0.0], ['na']]\n",
    "UNWANTED_COLS = ['pickup_datetime', 'key']\n",
    "\n",
    "\n",
    "def features_and_labels(row_data):\n",
    "    label = row_data.pop(LABEL_COLUMN)\n",
    "    features = row_data\n",
    "    \n",
    "    for unwanted_col in UNWANTED_COLS:\n",
    "        features.pop(unwanted_col)\n",
    "\n",
    "    return features, label\n",
    "\n",
    "\n",
    "def create_dataset(pattern, batch_size=1, mode='eval'):\n",
    "    dataset = tf.data.experimental.make_csv_dataset(\n",
    "        pattern, batch_size, CSV_COLUMNS, DEFAULTS)\n",
    "\n",
    "    dataset = dataset.map(features_and_labels)\n",
    "\n",
    "    if mode == 'train':\n",
    "        dataset = dataset.shuffle(buffer_size=1000).repeat()\n",
    "\n",
    "    # take advantage of multi-threading; 1=AUTOTUNE\n",
    "    dataset = dataset.prefetch(1)\n",
    "    return dataset"
   ]
  },
  {
   "cell_type": "markdown",
   "metadata": {},
   "source": [
    "## Build a simple keras DNN model\n",
    "\n",
    "We will use feature columns to connect our raw data to our keras DNN model. Feature columns make it easy to perform common types of feature engineering on your raw data. For example, you can one-hot encode categorical data, create feature crosses, embeddings and more. We'll cover these in more detail later in the course, but if you want a sneak peak, please browse the official TensorFlow [feature columns guide](https://www.tensorflow.org/guide/feature_columns).\n",
    "\n",
    "In our case we won't do any feature engineering. However, we still need to create a list of feature columns to specify the numeric values which will be passed on to our model. To do this, we use `tf.feature_column.numeric_column()`\n",
    "\n",
    "We use a python dictionary comprehension to create the feature columns for our model, which is just an elegant alternative to a for loop."
   ]
  },
  {
   "cell_type": "markdown",
   "metadata": {},
   "source": [
    "**Lab Task #1:** Create a feature column dictionary that we will use when building our deep neural network below. The keys should be the element of the `INPUT_COLS` list, while the values should be numeric feature columns."
   ]
  },
  {
   "cell_type": "code",
   "execution_count": 6,
   "metadata": {},
   "outputs": [],
   "source": [
    "INPUT_COLS = [\n",
    "    'pickup_longitude',\n",
    "    'pickup_latitude',\n",
    "    'dropoff_longitude',\n",
    "    'dropoff_latitude',\n",
    "    'passenger_count',\n",
    "]\n",
    "\n",
    "# Create input layer of feature columns\n",
    "# DONE 1\n",
    "feature_columns = {\n",
    "    col_name: tf.feature_column.numeric_column(col_name)\n",
    "    for col_name in INPUT_COLS\n",
    "}"
   ]
  },
  {
   "cell_type": "markdown",
   "metadata": {},
   "source": [
    "Next, we create the DNN model. The Sequential model is a linear stack of layers and when building a model using the Sequential API, you configure each layer of the model in turn. Once all the layers have been added, you compile the model. "
   ]
  },
  {
   "cell_type": "markdown",
   "metadata": {},
   "source": [
    "**Lab Task #2a:** Create a deep neural network using Keras's Sequential API. In the cell below, use the `tf.keras.layers` library to create all the layers for your deep neural network. "
   ]
  },
  {
   "cell_type": "code",
   "execution_count": 7,
   "metadata": {},
   "outputs": [],
   "source": [
    "# Build a keras DNN model using Sequential API\n",
    "# DONE 2a\n",
    "model = Sequential([\n",
    "    DenseFeatures(feature_columns=feature_columns.values()),\n",
    "    Dense(units=32, activation=\"relu\", name=\"h1\"),\n",
    "    Dense(units=8, activation=\"relu\", name=\"h2\"),\n",
    "    Dense(units=1, activation=\"linear\", name=\"output\")\n",
    "])"
   ]
  },
  {
   "cell_type": "markdown",
   "metadata": {},
   "source": [
    "Next, to prepare the model for training, you must configure the learning process. This is done using the compile method. The compile method takes three arguments:\n",
    "\n",
    "* An optimizer. This could be the string identifier of an existing optimizer (such as `rmsprop` or `adagrad`), or an instance of the [Optimizer class](https://www.tensorflow.org/versions/r2.0/api_docs/python/tf/keras/optimizers).\n",
    "* A loss function. This is the objective that the model will try to minimize. It can be the string identifier of an existing loss function from the [Losses class](https://www.tensorflow.org/versions/r2.0/api_docs/python/tf/keras/losses) (such as categorical_crossentropy or mse), or it can be a custom objective function.\n",
    "* A list of metrics. For any machine learning problem you will want a set of metrics to evaluate your model. A metric could be the string identifier of an existing metric or a custom metric function.\n",
    "\n",
    "We will add an additional custom metric called `rmse` to our list of metrics which will return the root mean square error. "
   ]
  },
  {
   "cell_type": "markdown",
   "metadata": {},
   "source": [
    "**Lab Task #2b:** Compile the model you created above. Create a custom loss function called `rmse` which computes the root mean squared error between `y_true` and `y_pred`. Pass this function to the model as an evaluation metric. "
   ]
  },
  {
   "cell_type": "code",
   "execution_count": 8,
   "metadata": {},
   "outputs": [],
   "source": [
    "# DONE 2b\n",
    "# Create a custom evalution metric\n",
    "def rmse(y_true, y_pred):\n",
    "    return tf.sqrt(tf.reduce_mean(tf.square(y_pred - y_true)))\n",
    "\n",
    "\n",
    "# Compile the keras model\n",
    "model.compile(optimizer=\"adam\", loss=\"mse\", metrics=[rmse, \"mse\"])"
   ]
  },
  {
   "cell_type": "markdown",
   "metadata": {},
   "source": [
    "## Train the model\n",
    "\n",
    "To train your model, Keras provides three functions that can be used:\n",
    " 1. `.fit()` for training a model for a fixed number of epochs (iterations on a dataset).\n",
    " 2. `.fit_generator()` for training a model on data yielded batch-by-batch by a generator\n",
    " 3. `.train_on_batch()` runs a single gradient update on a single batch of data. \n",
    " \n",
    "The `.fit()` function works well for small datasets which can fit entirely in memory. However, for large datasets (or if you need to manipulate the training data on the fly via data augmentation, etc) you will need to use `.fit_generator()` instead. The `.train_on_batch()` method is for more fine-grained control over training and accepts only a single batch of data.\n",
    "\n",
    "The taxifare dataset we sampled is small enough to fit in memory, so can we could use `.fit` to train our model. Our `create_dataset` function above generates batches of training examples, so we could also use `.fit_generator`. In fact, when calling `.fit` the method inspects the data, and if it's a generator (as our dataset is) it will invoke automatically `.fit_generator` for training. \n",
    "\n",
    "We start by setting up some parameters for our training job and create the data generators for the training and validation data.\n",
    "\n",
    "We refer you the the blog post [ML Design Pattern #3: Virtual Epochs](https://medium.com/google-cloud/ml-design-pattern-3-virtual-epochs-f842296de730) for further details on why express the training in terms of `NUM_TRAIN_EXAMPLES` and `NUM_EVALS` and why, in this training code, the number of epochs is really equal to the number of evaluations we perform."
   ]
  },
  {
   "cell_type": "code",
   "execution_count": 9,
   "metadata": {},
   "outputs": [
    {
     "name": "stdout",
     "output_type": "stream",
     "text": [
      "WARNING:tensorflow:From /opt/conda/lib/python3.7/site-packages/tensorflow_core/python/data/experimental/ops/readers.py:540: parallel_interleave (from tensorflow.python.data.experimental.ops.interleave_ops) is deprecated and will be removed in a future version.\n",
      "Instructions for updating:\n",
      "Use `tf.data.Dataset.interleave(map_func, cycle_length, block_length, num_parallel_calls=tf.data.experimental.AUTOTUNE)` instead. If sloppy execution is desired, use `tf.data.Options.experimental_determinstic`.\n",
      "WARNING:tensorflow:From /opt/conda/lib/python3.7/site-packages/tensorflow_core/python/data/experimental/ops/readers.py:214: shuffle_and_repeat (from tensorflow.python.data.experimental.ops.shuffle_ops) is deprecated and will be removed in a future version.\n",
      "Instructions for updating:\n",
      "Use `tf.data.Dataset.shuffle(buffer_size, seed)` followed by `tf.data.Dataset.repeat(count)`. Static tf.data optimizations will take care of using the fused implementation.\n"
     ]
    }
   ],
   "source": [
    "TRAIN_BATCH_SIZE = 1000\n",
    "NUM_TRAIN_EXAMPLES = 10000 * 5  # training dataset will repeat, wrap around\n",
    "NUM_EVALS = 50  # how many times to evaluate\n",
    "NUM_EVAL_EXAMPLES = 10000  # enough to get a reasonable sample\n",
    "\n",
    "trainds = create_dataset(\n",
    "    pattern='../data/taxi-train*',\n",
    "    batch_size=TRAIN_BATCH_SIZE,\n",
    "    mode='train')\n",
    "\n",
    "evalds = create_dataset(\n",
    "    pattern='../data/taxi-valid*',\n",
    "    batch_size=1000,\n",
    "    mode='eval').take(NUM_EVAL_EXAMPLES//1000)"
   ]
  },
  {
   "cell_type": "markdown",
   "metadata": {},
   "source": [
    "There are various arguments you can set when calling the [.fit method](https://www.tensorflow.org/versions/r2.0/api_docs/python/tf/keras/Model#fit). Here `x` specifies the input data which in our case is a `tf.data` dataset returning a tuple of (inputs, targets). The `steps_per_epoch` parameter is used to mark the end of training for a single epoch. Here we are training for NUM_EVALS epochs. Lastly, for the `callback` argument we specify a Tensorboard callback so we can inspect Tensorboard after training. "
   ]
  },
  {
   "cell_type": "markdown",
   "metadata": {},
   "source": [
    "**Lab Task #3:** In the cell below, you will train your model. First, define the `steps_per_epoch` then train your model using `.fit()`, saving the model training output to a variable called `history`."
   ]
  },
  {
   "cell_type": "code",
   "execution_count": 10,
   "metadata": {},
   "outputs": [
    {
     "name": "stdout",
     "output_type": "stream",
     "text": [
      "CPU times: user 4 µs, sys: 1e+03 ns, total: 5 µs\n",
      "Wall time: 9.54 µs\n",
      "WARNING:tensorflow:From /opt/conda/lib/python3.7/site-packages/tensorflow_core/python/ops/resource_variable_ops.py:1630: calling BaseResourceVariable.__init__ (from tensorflow.python.ops.resource_variable_ops) with constraint is deprecated and will be removed in a future version.\n",
      "Instructions for updating:\n",
      "If using Keras pass *_constraint arguments to layers.\n",
      "Train on 1 steps, validate on 10 steps\n",
      "Epoch 1/50\n",
      "1/1 [==============================] - 20s 20s/step - loss: 563.6843 - rmse: 23.7420 - mean_squared_error: 563.6843 - val_loss: 537.6247 - val_rmse: 23.1819 - val_mean_squared_error: 537.6247\n",
      "Epoch 2/50\n",
      "WARNING:tensorflow:Method (on_train_batch_end) is slow compared to the batch update (0.354838). Check your callbacks.\n",
      "1/1 [==============================] - 1s 805ms/step - loss: 587.4327 - rmse: 24.2370 - mean_squared_error: 587.4327 - val_loss: 501.0830 - val_rmse: 22.3827 - val_mean_squared_error: 501.0830\n",
      "Epoch 3/50\n",
      "1/1 [==============================] - 0s 459ms/step - loss: 451.5533 - rmse: 21.2498 - mean_squared_error: 451.5533 - val_loss: 469.9750 - val_rmse: 21.6756 - val_mean_squared_error: 469.9750\n",
      "Epoch 4/50\n",
      "1/1 [==============================] - 1s 511ms/step - loss: 375.9086 - rmse: 19.3884 - mean_squared_error: 375.9086 - val_loss: 435.8551 - val_rmse: 20.8630 - val_mean_squared_error: 435.8551\n",
      "Epoch 5/50\n",
      "1/1 [==============================] - 1s 526ms/step - loss: 376.7004 - rmse: 19.4088 - mean_squared_error: 376.7004 - val_loss: 404.4109 - val_rmse: 20.1045 - val_mean_squared_error: 404.4109\n",
      "Epoch 6/50\n",
      "1/1 [==============================] - 0s 464ms/step - loss: 373.8966 - rmse: 19.3364 - mean_squared_error: 373.8966 - val_loss: 375.9218 - val_rmse: 19.3848 - val_mean_squared_error: 375.9218\n",
      "Epoch 7/50\n",
      "1/1 [==============================] - 1s 585ms/step - loss: 338.6106 - rmse: 18.4014 - mean_squared_error: 338.6106 - val_loss: 351.7225 - val_rmse: 18.7442 - val_mean_squared_error: 351.7225\n",
      "Epoch 8/50\n",
      "1/1 [==============================] - 1s 535ms/step - loss: 317.3459 - rmse: 17.8142 - mean_squared_error: 317.3459 - val_loss: 324.2864 - val_rmse: 18.0012 - val_mean_squared_error: 324.2864\n",
      "Epoch 9/50\n",
      "1/1 [==============================] - 0s 435ms/step - loss: 294.4084 - rmse: 17.1583 - mean_squared_error: 294.4084 - val_loss: 298.6568 - val_rmse: 17.2747 - val_mean_squared_error: 298.6568\n",
      "Epoch 10/50\n",
      "1/1 [==============================] - 0s 440ms/step - loss: 227.9596 - rmse: 15.0983 - mean_squared_error: 227.9596 - val_loss: 277.1094 - val_rmse: 16.6432 - val_mean_squared_error: 277.1094\n",
      "Epoch 11/50\n",
      "1/1 [==============================] - 0s 366ms/step - loss: 250.5697 - rmse: 15.8294 - mean_squared_error: 250.5697 - val_loss: 259.2739 - val_rmse: 16.0929 - val_mean_squared_error: 259.2739\n",
      "Epoch 12/50\n",
      "1/1 [==============================] - 0s 484ms/step - loss: 222.6467 - rmse: 14.9213 - mean_squared_error: 222.6467 - val_loss: 237.9746 - val_rmse: 15.4154 - val_mean_squared_error: 237.9746\n",
      "Epoch 13/50\n",
      "1/1 [==============================] - 1s 530ms/step - loss: 220.9717 - rmse: 14.8651 - mean_squared_error: 220.9717 - val_loss: 222.6933 - val_rmse: 14.9175 - val_mean_squared_error: 222.6933\n",
      "Epoch 14/50\n",
      "1/1 [==============================] - 1s 624ms/step - loss: 194.3873 - rmse: 13.9423 - mean_squared_error: 194.3873 - val_loss: 208.0836 - val_rmse: 14.4059 - val_mean_squared_error: 208.0836\n",
      "Epoch 15/50\n",
      "1/1 [==============================] - 1s 501ms/step - loss: 157.5364 - rmse: 12.5514 - mean_squared_error: 157.5364 - val_loss: 191.4761 - val_rmse: 13.8227 - val_mean_squared_error: 191.4761\n",
      "Epoch 16/50\n",
      "1/1 [==============================] - 1s 521ms/step - loss: 220.0179 - rmse: 14.8330 - mean_squared_error: 220.0179 - val_loss: 179.5896 - val_rmse: 13.3890 - val_mean_squared_error: 179.5896\n",
      "Epoch 17/50\n",
      "1/1 [==============================] - 0s 442ms/step - loss: 137.4575 - rmse: 11.7242 - mean_squared_error: 137.4575 - val_loss: 168.9420 - val_rmse: 12.9822 - val_mean_squared_error: 168.9420\n",
      "Epoch 18/50\n",
      "1/1 [==============================] - 0s 462ms/step - loss: 159.4501 - rmse: 12.6274 - mean_squared_error: 159.4501 - val_loss: 162.1859 - val_rmse: 12.7250 - val_mean_squared_error: 162.1859\n",
      "Epoch 19/50\n",
      "1/1 [==============================] - 0s 499ms/step - loss: 132.7602 - rmse: 11.5222 - mean_squared_error: 132.7602 - val_loss: 150.6995 - val_rmse: 12.2460 - val_mean_squared_error: 150.6995\n",
      "Epoch 20/50\n",
      "1/1 [==============================] - 0s 471ms/step - loss: 116.1278 - rmse: 10.7763 - mean_squared_error: 116.1278 - val_loss: 143.8025 - val_rmse: 11.9691 - val_mean_squared_error: 143.8025\n",
      "Epoch 21/50\n",
      "1/1 [==============================] - 0s 467ms/step - loss: 132.1742 - rmse: 11.4967 - mean_squared_error: 132.1742 - val_loss: 135.2238 - val_rmse: 11.6216 - val_mean_squared_error: 135.2238\n",
      "Epoch 22/50\n",
      "1/1 [==============================] - 0s 493ms/step - loss: 103.7276 - rmse: 10.1847 - mean_squared_error: 103.7276 - val_loss: 130.9101 - val_rmse: 11.4354 - val_mean_squared_error: 130.9101\n",
      "Epoch 23/50\n",
      "1/1 [==============================] - 1s 553ms/step - loss: 109.8686 - rmse: 10.4818 - mean_squared_error: 109.8686 - val_loss: 127.3510 - val_rmse: 11.2630 - val_mean_squared_error: 127.3510\n",
      "Epoch 24/50\n",
      "1/1 [==============================] - 0s 490ms/step - loss: 145.4352 - rmse: 12.0597 - mean_squared_error: 145.4352 - val_loss: 122.1922 - val_rmse: 11.0503 - val_mean_squared_error: 122.1922\n",
      "Epoch 25/50\n",
      "1/1 [==============================] - 0s 494ms/step - loss: 110.2429 - rmse: 10.4997 - mean_squared_error: 110.2429 - val_loss: 119.0708 - val_rmse: 10.9015 - val_mean_squared_error: 119.0708\n",
      "Epoch 26/50\n",
      "1/1 [==============================] - 0s 489ms/step - loss: 94.8115 - rmse: 9.7371 - mean_squared_error: 94.8115 - val_loss: 118.0452 - val_rmse: 10.8478 - val_mean_squared_error: 118.0452\n",
      "Epoch 27/50\n",
      "1/1 [==============================] - 0s 469ms/step - loss: 116.1521 - rmse: 10.7774 - mean_squared_error: 116.1521 - val_loss: 112.0766 - val_rmse: 10.5666 - val_mean_squared_error: 112.0767\n",
      "Epoch 28/50\n",
      "1/1 [==============================] - 0s 465ms/step - loss: 94.4355 - rmse: 9.7178 - mean_squared_error: 94.4355 - val_loss: 112.5382 - val_rmse: 10.5796 - val_mean_squared_error: 112.5382\n",
      "Epoch 29/50\n",
      "1/1 [==============================] - 1s 521ms/step - loss: 94.1104 - rmse: 9.7010 - mean_squared_error: 94.1104 - val_loss: 111.6760 - val_rmse: 10.5566 - val_mean_squared_error: 111.6760\n",
      "Epoch 30/50\n",
      "1/1 [==============================] - 0s 372ms/step - loss: 80.4127 - rmse: 8.9673 - mean_squared_error: 80.4127 - val_loss: 109.7651 - val_rmse: 10.4391 - val_mean_squared_error: 109.7651\n",
      "Epoch 31/50\n",
      "1/1 [==============================] - 0s 372ms/step - loss: 90.4178 - rmse: 9.5088 - mean_squared_error: 90.4178 - val_loss: 110.4496 - val_rmse: 10.4989 - val_mean_squared_error: 110.4495\n",
      "Epoch 32/50\n",
      "1/1 [==============================] - 0s 409ms/step - loss: 91.3925 - rmse: 9.5599 - mean_squared_error: 91.3925 - val_loss: 111.2336 - val_rmse: 10.5317 - val_mean_squared_error: 111.2337\n",
      "Epoch 33/50\n",
      "1/1 [==============================] - 0s 362ms/step - loss: 79.9599 - rmse: 8.9420 - mean_squared_error: 79.9599 - val_loss: 109.6824 - val_rmse: 10.4609 - val_mean_squared_error: 109.6824\n",
      "Epoch 34/50\n",
      "1/1 [==============================] - 0s 439ms/step - loss: 101.5819 - rmse: 10.0788 - mean_squared_error: 101.5819 - val_loss: 109.0004 - val_rmse: 10.4353 - val_mean_squared_error: 109.0004\n",
      "Epoch 35/50\n",
      "1/1 [==============================] - 0s 400ms/step - loss: 123.2545 - rmse: 11.1020 - mean_squared_error: 123.2545 - val_loss: 109.3108 - val_rmse: 10.4442 - val_mean_squared_error: 109.3108\n",
      "Epoch 36/50\n",
      "1/1 [==============================] - 0s 424ms/step - loss: 93.2603 - rmse: 9.6571 - mean_squared_error: 93.2603 - val_loss: 110.6047 - val_rmse: 10.5023 - val_mean_squared_error: 110.6047\n",
      "Epoch 37/50\n",
      "1/1 [==============================] - 0s 450ms/step - loss: 70.8427 - rmse: 8.4168 - mean_squared_error: 70.8427 - val_loss: 110.9566 - val_rmse: 10.5304 - val_mean_squared_error: 110.9566\n",
      "Epoch 38/50\n",
      "1/1 [==============================] - 0s 483ms/step - loss: 110.0224 - rmse: 10.4892 - mean_squared_error: 110.0224 - val_loss: 109.4160 - val_rmse: 10.4538 - val_mean_squared_error: 109.4160\n",
      "Epoch 39/50\n",
      "1/1 [==============================] - 1s 522ms/step - loss: 102.6709 - rmse: 10.1327 - mean_squared_error: 102.6709 - val_loss: 111.5647 - val_rmse: 10.5418 - val_mean_squared_error: 111.5647\n",
      "Epoch 40/50\n",
      "1/1 [==============================] - 0s 496ms/step - loss: 78.2694 - rmse: 8.8470 - mean_squared_error: 78.2694 - val_loss: 112.8024 - val_rmse: 10.6003 - val_mean_squared_error: 112.8024\n",
      "Epoch 41/50\n",
      "1/1 [==============================] - 0s 451ms/step - loss: 75.0421 - rmse: 8.6627 - mean_squared_error: 75.0421 - val_loss: 111.4495 - val_rmse: 10.5430 - val_mean_squared_error: 111.4495\n",
      "Epoch 42/50\n",
      "1/1 [==============================] - 0s 454ms/step - loss: 114.1833 - rmse: 10.6857 - mean_squared_error: 114.1833 - val_loss: 113.3150 - val_rmse: 10.6318 - val_mean_squared_error: 113.3150\n",
      "Epoch 43/50\n",
      "1/1 [==============================] - 0s 446ms/step - loss: 77.3046 - rmse: 8.7923 - mean_squared_error: 77.3046 - val_loss: 111.2632 - val_rmse: 10.5443 - val_mean_squared_error: 111.2632\n",
      "Epoch 44/50\n",
      "1/1 [==============================] - 0s 475ms/step - loss: 88.7686 - rmse: 9.4217 - mean_squared_error: 88.7686 - val_loss: 109.1440 - val_rmse: 10.4251 - val_mean_squared_error: 109.1440\n",
      "Epoch 45/50\n",
      "1/1 [==============================] - 0s 370ms/step - loss: 96.7458 - rmse: 9.8359 - mean_squared_error: 96.7458 - val_loss: 109.9158 - val_rmse: 10.4713 - val_mean_squared_error: 109.9158\n",
      "Epoch 46/50\n",
      "1/1 [==============================] - 0s 384ms/step - loss: 103.9737 - rmse: 10.1967 - mean_squared_error: 103.9737 - val_loss: 112.5375 - val_rmse: 10.5931 - val_mean_squared_error: 112.5375\n",
      "Epoch 47/50\n",
      "1/1 [==============================] - 0s 398ms/step - loss: 95.9349 - rmse: 9.7946 - mean_squared_error: 95.9349 - val_loss: 111.8160 - val_rmse: 10.5608 - val_mean_squared_error: 111.8159\n",
      "Epoch 48/50\n",
      "1/1 [==============================] - 0s 438ms/step - loss: 85.0700 - rmse: 9.2233 - mean_squared_error: 85.0700 - val_loss: 110.1634 - val_rmse: 10.4887 - val_mean_squared_error: 110.1634\n",
      "Epoch 49/50\n",
      "1/1 [==============================] - 1s 542ms/step - loss: 128.0247 - rmse: 11.3148 - mean_squared_error: 128.0247 - val_loss: 109.4807 - val_rmse: 10.4569 - val_mean_squared_error: 109.4807\n",
      "Epoch 50/50\n",
      "1/1 [==============================] - 0s 429ms/step - loss: 77.6393 - rmse: 8.8113 - mean_squared_error: 77.6393 - val_loss: 111.2531 - val_rmse: 10.5357 - val_mean_squared_error: 111.2531\n"
     ]
    }
   ],
   "source": [
    "# DONE 3\n",
    "%time \n",
    "steps_per_epoch = NUM_TRAIN_EXAMPLES // (TRAIN_BATCH_SIZE * NUM_EVALS)\n",
    "\n",
    "LOGDIR = \"./taxi_trained\"\n",
    "# Train the sequential model\n",
    "history = model.fit(x=trainds,\n",
    "                    steps_per_epoch=steps_per_epoch,\n",
    "                    epochs=NUM_EVALS,\n",
    "                    validation_data=evalds,\n",
    "                    callbacks=[TensorBoard(LOGDIR)])"
   ]
  },
  {
   "cell_type": "markdown",
   "metadata": {},
   "source": [
    "### High-level model evaluation\n",
    "\n",
    "Once we've run data through the model, we can call `.summary()` on the model to get a high-level summary of our network. We can also plot the training and evaluation curves for the metrics we computed above. "
   ]
  },
  {
   "cell_type": "code",
   "execution_count": 11,
   "metadata": {},
   "outputs": [
    {
     "name": "stdout",
     "output_type": "stream",
     "text": [
      "Model: \"sequential\"\n",
      "_________________________________________________________________\n",
      "Layer (type)                 Output Shape              Param #   \n",
      "=================================================================\n",
      "dense_features (DenseFeature multiple                  0         \n",
      "_________________________________________________________________\n",
      "h1 (Dense)                   multiple                  192       \n",
      "_________________________________________________________________\n",
      "h2 (Dense)                   multiple                  264       \n",
      "_________________________________________________________________\n",
      "output (Dense)               multiple                  9         \n",
      "=================================================================\n",
      "Total params: 465\n",
      "Trainable params: 465\n",
      "Non-trainable params: 0\n",
      "_________________________________________________________________\n"
     ]
    }
   ],
   "source": [
    "model.summary()"
   ]
  },
  {
   "cell_type": "markdown",
   "metadata": {},
   "source": [
    "Running `.fit` (or `.fit_generator`) returns a History object which collects all the events recorded during training. Similar to Tensorboard, we can plot the training and validation curves for the model loss and rmse by accessing these elements of the History object."
   ]
  },
  {
   "cell_type": "code",
   "execution_count": 12,
   "metadata": {},
   "outputs": [
    {
     "data": {
      "text/plain": [
       "<AxesSubplot:>"
      ]
     },
     "execution_count": 12,
     "metadata": {},
     "output_type": "execute_result"
    },
    {
     "data": {
      "image/png": "[encoded data removed]",
      "text/plain": [
       "<Figure size 432x288 with 1 Axes>"
      ]
     },
     "metadata": {
      "needs_background": "light"
     },
     "output_type": "display_data"
    }
   ],
   "source": [
    "RMSE_COLS = ['rmse', 'val_rmse']\n",
    "\n",
    "pd.DataFrame(history.history)[RMSE_COLS].plot()"
   ]
  },
  {
   "cell_type": "code",
   "execution_count": 13,
   "metadata": {},
   "outputs": [
    {
     "data": {
      "text/plain": [
       "<AxesSubplot:>"
      ]
     },
     "execution_count": 13,
     "metadata": {},
     "output_type": "execute_result"
    },
    {
     "data": {
      "image/png": "[encoded data removed]",
      "text/plain": [
       "<Figure size 432x288 with 1 Axes>"
      ]
     },
     "metadata": {
      "needs_background": "light"
     },
     "output_type": "display_data"
    }
   ],
   "source": [
    "LOSS_COLS = ['loss', 'val_loss']\n",
    "\n",
    "pd.DataFrame(history.history)[LOSS_COLS].plot()"
   ]
  },
  {
   "cell_type": "markdown",
   "metadata": {},
   "source": [
    "# Making predictions with our model\n",
    "\n",
    "To make predictions with our trained model, we can call the [predict method](https://www.tensorflow.org/api_docs/python/tf/keras/Model#predict), passing to it a dictionary of values. The `steps` parameter determines the total number of steps before declaring the prediction round finished. Here since we have just one example, we set `steps=1` (setting `steps=None` would also work). Note, however, that if x is a `tf.data` dataset or a dataset iterator, and steps is set to None, predict will run until the input dataset is exhausted."
   ]
  },
  {
   "cell_type": "code",
   "execution_count": 14,
   "metadata": {},
   "outputs": [
    {
     "data": {
      "text/plain": [
       "array([[12.548788]], dtype=float32)"
      ]
     },
     "execution_count": 14,
     "metadata": {},
     "output_type": "execute_result"
    }
   ],
   "source": [
    "model.predict(x={\"pickup_longitude\": tf.convert_to_tensor([-73.982683]),\n",
    "                 \"pickup_latitude\": tf.convert_to_tensor([40.742104]),\n",
    "                 \"dropoff_longitude\": tf.convert_to_tensor([-73.983766]),\n",
    "                 \"dropoff_latitude\": tf.convert_to_tensor([40.755174]),\n",
    "                 \"passenger_count\": tf.convert_to_tensor([3.0])},\n",
    "              steps=1)"
   ]
  },
  {
   "cell_type": "markdown",
   "metadata": {},
   "source": [
    "# Export and deploy our model\n",
    "\n",
    "Of course, making individual predictions is not realistic, because we can't expect client code to have a model object in memory. For others to use our trained model, we'll have to export our model to a file, and expect client code to instantiate the model from that exported file. \n",
    "\n",
    "We'll export the model to a TensorFlow SavedModel format. Once we have a model in this format, we have lots of ways to \"serve\" the model, from a web application, from JavaScript, from mobile applications, etc."
   ]
  },
  {
   "cell_type": "markdown",
   "metadata": {},
   "source": [
    "**Lab Task #4:** Use `tf.saved_model.save` to export the trained model to a Tensorflow SavedModel format. Reference the [documentation for `tf.saved_model.save`](https://www.tensorflow.org/api_docs/python/tf/saved_model/save) as you fill in the code for the cell below.\n",
    "\n",
    "Next, print the signature of your saved model using the SavedModel Command Line Interface command `saved_model_cli`. You can read more about the command line interface and the `show` and `run` commands it supports in the [documentation here](https://www.tensorflow.org/guide/saved_model#overview_of_commands). "
   ]
  },
  {
   "cell_type": "code",
   "execution_count": 16,
   "metadata": {},
   "outputs": [
    {
     "name": "stdout",
     "output_type": "stream",
     "text": [
      "INFO:tensorflow:Assets written to: ./export/savedmodel/20210613090604/assets\n"
     ]
    }
   ],
   "source": [
    "# DONE 4a\n",
    "OUTPUT_DIR = \"./export/savedmodel\"\n",
    "shutil.rmtree(OUTPUT_DIR, ignore_errors=True)\n",
    "EXPORT_PATH = os.path.join(OUTPUT_DIR,\n",
    "                           datetime.datetime.now().strftime(\"%Y%m%d%H%M%S\"))\n",
    "\n",
    "tf.saved_model.save(model, EXPORT_PATH)"
   ]
  },
  {
   "cell_type": "code",
   "execution_count": 17,
   "metadata": {},
   "outputs": [
    {
     "name": "stdout",
     "output_type": "stream",
     "text": [
      "The given SavedModel SignatureDef contains the following input(s):\n",
      "  inputs['dropoff_latitude'] tensor_info:\n",
      "      dtype: DT_FLOAT\n",
      "      shape: (-1, 1)\n",
      "      name: serving_default_dropoff_latitude:0\n",
      "  inputs['dropoff_longitude'] tensor_info:\n",
      "      dtype: DT_FLOAT\n",
      "      shape: (-1, 1)\n",
      "      name: serving_default_dropoff_longitude:0\n",
      "  inputs['passenger_count'] tensor_info:\n",
      "      dtype: DT_FLOAT\n",
      "      shape: (-1, 1)\n",
      "      name: serving_default_passenger_count:0\n",
      "  inputs['pickup_latitude'] tensor_info:\n",
      "      dtype: DT_FLOAT\n",
      "      shape: (-1, 1)\n",
      "      name: serving_default_pickup_latitude:0\n",
      "  inputs['pickup_longitude'] tensor_info:\n",
      "      dtype: DT_FLOAT\n",
      "      shape: (-1, 1)\n",
      "      name: serving_default_pickup_longitude:0\n",
      "The given SavedModel SignatureDef contains the following output(s):\n",
      "  outputs['output_1'] tensor_info:\n",
      "      dtype: DT_FLOAT\n",
      "      shape: (-1, 1)\n",
      "      name: StatefulPartitionedCall:0\n",
      "Method name is: tensorflow/serving/predict\n",
      "./export/savedmodel/20210613090604\n",
      "./export/savedmodel/20210613090604/saved_model.pb\n",
      "./export/savedmodel/20210613090604/assets\n",
      "./export/savedmodel/20210613090604/variables\n",
      "./export/savedmodel/20210613090604/variables/variables.data-00000-of-00002\n",
      "./export/savedmodel/20210613090604/variables/variables.index\n",
      "./export/savedmodel/20210613090604/variables/variables.data-00001-of-00002\n"
     ]
    }
   ],
   "source": [
    "# DONE 4b\n",
    "!saved_model_cli show \\\n",
    " --tag_set serve \\\n",
    " --signature_def serving_default \\\n",
    " --dir {EXPORT_PATH}\n",
    "\n",
    "!find {EXPORT_PATH}\n",
    "os.environ['EXPORT_PATH'] = EXPORT_PATH"
   ]
  },
  {
   "cell_type": "markdown",
   "metadata": {},
   "source": [
    "### Deploy our model to AI Platform\n",
    "\n",
    "Finally, we will deploy our trained model to AI Platform and see how we can make online predicitons. "
   ]
  },
  {
   "cell_type": "markdown",
   "metadata": {},
   "source": [
    "**Lab Task #5a:** Complete the code in the cell below to deploy your trained model to AI Platform using the `gcloud ai-platform versions create` command. Have a look at [the documentation for how to create model version with gcloud](https://cloud.google.com/sdk/gcloud/reference/ai-platform/versions/create)."
   ]
  },
  {
   "cell_type": "code",
   "execution_count": 18,
   "metadata": {},
   "outputs": [
    {
     "name": "stderr",
     "output_type": "stream",
     "text": [
      "Updated property [compute/region].\n",
      "Updated property [ai_platform/region].\n"
     ]
    }
   ],
   "source": [
    "%%bash\n",
    "gcloud config set compute/region us-east1\n",
    "gcloud config set ai_platform/region global\n"
   ]
  },
  {
   "cell_type": "markdown",
   "metadata": {},
   "source": [
    "**Below cell will take around 10 minutes to complete.**"
   ]
  },
  {
   "cell_type": "code",
   "execution_count": 19,
   "metadata": {},
   "outputs": [
    {
     "name": "stdout",
     "output_type": "stream",
     "text": [
      "Creating a new GCS bucket.\n",
      "Here are your current buckets:\n",
      "gs://qwiklabs-gcp-00-1a2830a0b2e5/\n",
      "Creating taxifare\n",
      "Creating taxifare:dnn\n"
     ]
    },
    {
     "name": "stderr",
     "output_type": "stream",
     "text": [
      "Creating gs://qwiklabs-gcp-00-1a2830a0b2e5/...\n",
      "Using endpoint [https://us-east1-ml.googleapis.com/]\n",
      "Using endpoint [https://us-east1-ml.googleapis.com/]\n",
      "Created ai platform model [projects/qwiklabs-gcp-00-1a2830a0b2e5/models/taxifare].\n",
      "Using endpoint [https://us-east1-ml.googleapis.com/]\n",
      "Using endpoint [https://us-east1-ml.googleapis.com/]\n",
      "Creating version (this might take a few minutes)......\n",
      ".....................................................................................................................................................................................................................................................................................................................................................................................................................................................................................................................................................................................................................................................................................................................................................................................................................................................................................................................................................................................................................................................................................................................................................................................................................................................................................................................................................................................................................................................................................................................................................................................................................................................................................................................................................................................................................................................................................................................................................................................................................................................................................................................................................................................................................................................................................................................................................................................................................................................................................................................................................................................................................................................................................................................................................................................done.\n"
     ]
    }
   ],
   "source": [
    "%%bash\n",
    "\n",
    "# DONE 5a\n",
    "\n",
    "PROJECT=\"qwiklabs-gcp-00-1a2830a0b2e5\"\n",
    "BUCKET=${PROJECT}\n",
    "REGION=us-east1\n",
    "MODEL_NAME=taxifare\n",
    "VERSION_NAME=dnn\n",
    "\n",
    "## Create GCS bucket if it doesn't exist already...\n",
    "exists=$(gsutil ls -d | grep -w gs://${BUCKET}/)\n",
    "\n",
    "if [ -n \"$exists\" ]; then\n",
    "    echo -e \"Bucket exists, let's not recreate it.\"\n",
    "else\n",
    "    echo \"Creating a new GCS bucket.\"\n",
    "    gsutil mb -l ${REGION} gs://${BUCKET}\n",
    "    echo \"Here are your current buckets:\"\n",
    "    gsutil ls\n",
    "fi\n",
    "\n",
    "if [[ $(gcloud ai-platform models list --format='value(name)' --region=$REGION | grep $MODEL_NAME) ]]; then\n",
    "    echo \"$MODEL_NAME already exists\"\n",
    "else\n",
    "    echo \"Creating $MODEL_NAME\"\n",
    "    gcloud ai-platform models create --region=$REGION $MODEL_NAME\n",
    "fi\n",
    "\n",
    "if [[ $(gcloud ai-platform versions list --model $MODEL_NAME --region=$REGION --format='value(name)' | grep $VERSION_NAME) ]]; then\n",
    "    echo \"Deleting already existing $MODEL_NAME:$VERSION_NAME ... \"\n",
    "    echo yes | gcloud ai-platform versions delete --model=$MODEL_NAME $VERSION_NAME --region=$REGION\n",
    "    echo \"Please run this cell again if you don't see a Creating message ... \"\n",
    "    sleep 2\n",
    "fi\n",
    "\n",
    "echo \"Creating $MODEL_NAME:$VERSION_NAME\"\n",
    "gcloud ai-platform versions create \\\n",
    "    --model=$MODEL_NAME $VERSION_NAME \\\n",
    "    --framework=tensorflow \\\n",
    "    --python-version=3.7 \\\n",
    "    --runtime-version=2.1 \\\n",
    "    --origin=$EXPORT_PATH \\\n",
    "    --staging-bucket=gs://$BUCKET \\\n",
    "    --region=$REGION"
   ]
  },
  {
   "cell_type": "code",
   "execution_count": 20,
   "metadata": {},
   "outputs": [
    {
     "name": "stdout",
     "output_type": "stream",
     "text": [
      "Writing input.json\n"
     ]
    }
   ],
   "source": [
    "%%writefile input.json\n",
    "{\"pickup_longitude\": -73.982683, \"pickup_latitude\": 40.742104,\"dropoff_longitude\": -73.983766,\"dropoff_latitude\": 40.755174,\"passenger_count\": 3.0}  "
   ]
  },
  {
   "cell_type": "markdown",
   "metadata": {},
   "source": [
    "**Lab Task #5b:** Complete the code in the cell below to call prediction on your deployed model for the example you just created in the `input.json` file above."
   ]
  },
  {
   "cell_type": "code",
   "execution_count": 27,
   "metadata": {},
   "outputs": [
    {
     "name": "stdout",
     "output_type": "stream",
     "text": [
      "\u001b[1;31mERROR:\u001b[0m (gcloud.ai-platform.predict) argument --version: expected one argument\n",
      "Usage: gcloud ai-platform predict --model=MODEL (--json-instances=JSON_INSTANCES | --json-request=JSON_REQUEST | --text-instances=TEXT_INSTANCES) [optional flags]\n",
      "  optional flags may be  --help | --json-instances | --json-request | --region |\n",
      "                         --signature-name | --text-instances | --version\n",
      "\n",
      "For detailed information on this command and its flags, run:\n",
      "  gcloud ai-platform predict --help\n"
     ]
    }
   ],
   "source": [
    "# DONE 5b\n",
    "!gcloud ai-platform predict --model taxifare --json-instances input.json --version dnn --region us-east1"
   ]
  },
  {
   "cell_type": "markdown",
   "metadata": {},
   "source": [
    "Copyright 2019 Google Inc. Licensed under the Apache License, Version 2.0 (the \"License\"); you may not use this file except in compliance with the License. You may obtain a copy of the License at http://www.apache.org/licenses/LICENSE-2.0 Unless required by applicable law or agreed to in writing, software distributed under the License is distributed on an \"AS IS\" BASIS, WITHOUT WARRANTIES OR CONDITIONS OF ANY KIND, either express or implied. See the License for the specific language governing permissions and limitations under the License"
   ]
  }
 ],
 "metadata": {
  "environment": {
   "name": "tf-gpu.1-15.m71",
   "type": "gcloud",
   "uri": "gcr.io/deeplearning-platform-release/tf-gpu.1-15:m71"
  },
  "kernelspec": {
   "display_name": "Python 3",
   "language": "python",
   "name": "python3"
  },
  "language_info": {
   "codemirror_mode": {
    "name": "ipython",
    "version": 3
   },
   "file_extension": ".py",
   "mimetype": "text/x-python",
   "name": "python",
   "nbconvert_exporter": "python",
   "pygments_lexer": "ipython3",
   "version": "3.7.10"
  }
 },
 "nbformat": 4,
 "nbformat_minor": 4
}
